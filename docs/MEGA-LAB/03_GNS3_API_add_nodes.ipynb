{
 "cells": [
  {
   "cell_type": "markdown",
   "metadata": {
    "collapsed": true,
    "pycharm": {
     "name": "#%% md\n"
    }
   },
   "source": [
    "## 3. Adding nodes using GNS3 API\n",
    "### 3.1. GNS3 API exploring\n",
    "\n",
    "- The GNS3 API documentation is [here](https://gns3-server.readthedocs.io/en/stable/index.html).\n",
    "- Two type of GNS3 endpoints, [ref](https://gns3-server.readthedocs.io/en/stable/endpoints.html).\n",
    "- Using curl, [ref](https://gns3-server.readthedocs.io/en/stable/curl.html).\n",
    "- [API authentication](https://www.b-ehlers.de/blog/posts/2018-07-22-gns3-api-auth/).\n",
    "  - Option 1: Disable GNS3 Server Authentication\n",
    "  `Edit/Preferences/Server`.\n",
    "  - Option 2: Use GNS3 API with password: On the initial setup the GNS3 GUI creates a random username and\n",
    "  password and stores it in `~/.config/GNS3/gns3_server.conf` (Linux/MacOS)\n",
    "   or in `%APPDATA%\\GNS3\\gns3_server.ini` (Windows).\n",
    "\n",
    "### 3.2. Move the app to Windows Workstation\n",
    "#### Motivations\n",
    "- Need to query `localhost:3080` for project nodes/links information.\n",
    "- More familiar with Anaconda in Windows for Python packages management.\n",
    "\n",
    "#### Setting up Windows\n",
    "- Create anaconda Python environment `tfenv`.\n",
    "- Activate environment and install required packages.\n",
    "```bash\n",
    "conda activate tfenv\n",
    "conda install -c conda-forge poetry\n",
    "conda install -c conda-forge aiofiles\n",
    "conda install -c conda-forge httpx\n",
    "conda install -c conda-forge attrs\n",
    "```\n",
    "\n",
    "\n"
   ]
  }
 ],
 "metadata": {
  "kernelspec": {
   "display_name": "Python 3",
   "language": "python",
   "name": "python3"
  },
  "language_info": {
   "codemirror_mode": {
    "name": "ipython",
    "version": 2
   },
   "file_extension": ".py",
   "mimetype": "text/x-python",
   "name": "python",
   "nbconvert_exporter": "python",
   "pygments_lexer": "ipython2",
   "version": "2.7.6"
  }
 },
 "nbformat": 4,
 "nbformat_minor": 0
}