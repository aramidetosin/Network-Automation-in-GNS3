{
 "cells": [
  {
   "cell_type": "markdown",
   "metadata": {
    "collapsed": true,
    "pycharm": {
     "name": "#%% md\n"
    }
   },
   "source": [
    "### 1. Topology design\n",
    "We set up the topology with the following detailed information\n",
    "in mind.\n",
    "\n",
    "- Networks:\n",
    "  - Host-only: VMnet1 - 192.168.134.0/24\n",
    "  - NAT: VMnet8 - 192.168.100.0/24\n",
    "\n",
    "- Ubuntu-desktop-control-station:\n",
    "  - Connect to VMnet1 at 192.168.134.130\n",
    "  - Connect to VMnet8 at 192.168.100.147\n",
    "\n",
    "#### 1.1. Initial topology\n",
    "The initial topology is as in figure below.\n",
    "\n",
    "![Alt_text](/docs/MEGA-LAB/images/00_initial_topology.png)\n",
    "\n",
    "### Configure static route and redistribute route under EIGRP\n",
    "Follow the example [here](https://www.cisco.com/c/en/us/support/docs/ip/enhanced-interior-gateway-routing-protocol-eigrp/200279-Configure-Default-route-in-EIGRP.html).\n",
    "\n",
    "In EDGE1:\n",
    "```bash\n",
    "ip route 0.0.0.0 0.0.0.0 Null0\n",
    "router eigrp 100\n",
    "redistribute static metric 1000 10 255 1 1500\n",
    "```\n",
    "\n",
    "\n"
   ]
  }
 ],
 "metadata": {
  "kernelspec": {
   "display_name": "Python 3",
   "language": "python",
   "name": "python3"
  },
  "language_info": {
   "codemirror_mode": {
    "name": "ipython",
    "version": 2
   },
   "file_extension": ".py",
   "mimetype": "text/x-python",
   "name": "python",
   "nbconvert_exporter": "python",
   "pygments_lexer": "ipython2",
   "version": "2.7.6"
  }
 },
 "nbformat": 4,
 "nbformat_minor": 0
}