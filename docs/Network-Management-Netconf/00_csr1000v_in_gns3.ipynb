{
 "cells": [
  {
   "cell_type": "markdown",
   "metadata": {
    "collapsed": true,
    "pycharm": {
     "name": "#%% md\n"
    }
   },
   "source": [
    "## 1. Install CSR1000v in GNS3\n",
    "- Create two CiscoCSR1000v16.7.1 and connect with each other through\n",
    "g1 interfaces.\n",
    "- Configure the router on the left:\n",
    "  ```bash\n",
    "  en\n",
    "  conf t\n",
    "  host R1\n",
    "  int g1\n",
    "  ip address 10.1.1.1 255.255.255.0\n",
    "  no shut\n",
    "  end\n",
    "  sh ip int brief\n",
    "  ```\n",
    "- Do the similar for the router on the right:\n",
    "  ```bash\n",
    "  en\n",
    "  conf t\n",
    "  host R2\n",
    "  int g1\n",
    "  ip address 10.1.1.2 255.255.255.0\n",
    "  no shut\n",
    "  end\n",
    "  sh ip int brief\n",
    "  ```\n",
    "- Enable routing protocol OSPF on the router R1:\n",
    "  ```bash\n",
    "  conf t\n",
    "  int loop 0\n",
    "  ip address 1.1.1.1 255.255.255.255\n",
    "  router ospf 1\n",
    "  network 0.0.0.0 0.0.0.0 area 0\n",
    "  end\n",
    "  sh ip int brief\n",
    "  sh ip ospf int brief\n",
    "  ```\n",
    "- Enable routing protocol OSPF on router R2:\n",
    "  ```bash\n",
    "  conf t\n",
    "  int loop 0\n",
    "  ip address 2.2.2.2 255.255.255.255\n",
    "  router ospf 1\n",
    "  network 0.0.0.0 0.0.0.0 area 0\n",
    "  end\n",
    "  sh ip int brief\n",
    "  sh ip ospf int brief\n",
    "  ```\n",
    "- We should configure the loopback interface first and then enable\n",
    "OSPF on all interfaces. With `sh ip ospf int` on R2, we can see that OSPF\n",
    "is running on the loopback and gigabit1, router id is 2.2.2.2.\n",
    "  - On R1, with `sh ip ospf int brief`, we can see that R1 is the\n",
    "  Designated Router (DR).\n",
    "  - On R2, with `sh ip ospf int brief`, we can see that R2 is the\n",
    "  Backup Designated Router (BDR).\n",
    "- Check the settings on both routers with `sh ip route` and `sh ip ospf neighbor`:\n",
    "  - On R1, R1 has a neighbor relationship to R2 and R2 is the BDR,\n",
    "  the loopback of R2 is learnt through OSPF. Then we can ping 2.2.2.2.\n",
    "  - R2 has a neighbor relationship to R1 and R1 is the DR, R2 can\n",
    "  ping the loopback of R1 1.1.1.1.\n",
    "\n",
    "## 2. Configure netconf-yang\n",
    "- On R1, R2:\n",
    "  ```bash\n",
    "  conf t\n",
    "  netconf-yang\n",
    "  end\n",
    "  show platform software yang-management process\n",
    "  show platform software yang-management process monitor\n",
    "  copy run start\n",
    "  ```\n",
    "\n"
   ]
  }
 ],
 "metadata": {
  "kernelspec": {
   "display_name": "Python 3",
   "language": "python",
   "name": "python3"
  },
  "language_info": {
   "codemirror_mode": {
    "name": "ipython",
    "version": 2
   },
   "file_extension": ".py",
   "mimetype": "text/x-python",
   "name": "python",
   "nbconvert_exporter": "python",
   "pygments_lexer": "ipython2",
   "version": "2.7.6"
  }
 },
 "nbformat": 4,
 "nbformat_minor": 0
}