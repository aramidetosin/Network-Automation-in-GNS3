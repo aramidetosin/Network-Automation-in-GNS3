{
 "cells": [
  {
   "cell_type": "markdown",
   "metadata": {
    "collapsed": true,
    "pycharm": {
     "name": "#%% md\n"
    }
   },
   "source": [
    "## 1. Install NetBox-docker in the Ubuntu-control-station\n",
    "- This Ubuntu-control-station is a Virtual machine, installed in the\n",
    "Windows 10 host machine.\n",
    "- Install docker-compose on the VM\n",
    "```bash\n",
    "sudo curl -L \"https://github.com/docker/compose/releases/download/1.26.2/docker-compose-$(uname -s)-$(uname -m)\" -o /usr/local/bin/docker-compose\n",
    "sudo chmod +x /usr/local/bin/docker-compose\n",
    "docker-compose --version\n",
    "```\n",
    "\n",
    "- Install netbox-docker, follow the instructions [here](https://github.com/netbox-community/netbox-docker).\n",
    "```bash\n",
    "git clone -b release https://github.com/netbox-community/netbox-docker.git\n",
    "cd netbox-docker\n",
    "tee docker-compose.override.yml <<EOF\n",
    "version: '3.4'\n",
    "services:\n",
    "  nginx:\n",
    "    ports:\n",
    "      - 8000:8080\n",
    "EOF\n",
    "docker-compose pull\n",
    "docker-compose up -d\n",
    "```\n",
    "\n",
    "- Add the hostname in **Windows 10** host machine at `C:\\Windows\\System32\\drivers\\etc\\hosts`\n",
    "```bash\n",
    "192.168.134.128 gns3vm\n",
    "192.168.100.147 ubuntu\n",
    "```\n",
    "\n",
    "- Access the Netbox on your Windows 10 host machine at `http://ubuntu:8000/`.\n",
    "  - Credential: admin/admin.\n"
   ]
  }
 ],
 "metadata": {
  "kernelspec": {
   "display_name": "Python 3",
   "language": "python",
   "name": "python3"
  },
  "language_info": {
   "codemirror_mode": {
    "name": "ipython",
    "version": 2
   },
   "file_extension": ".py",
   "mimetype": "text/x-python",
   "name": "python",
   "nbconvert_exporter": "python",
   "pygments_lexer": "ipython2",
   "version": "2.7.6"
  }
 },
 "nbformat": 4,
 "nbformat_minor": 0
}