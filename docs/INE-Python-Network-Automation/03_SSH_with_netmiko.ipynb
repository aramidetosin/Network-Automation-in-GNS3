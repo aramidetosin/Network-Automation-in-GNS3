{
 "cells": [
  {
   "cell_type": "markdown",
   "metadata": {
    "collapsed": true,
    "pycharm": {
     "name": "#%% md\n"
    }
   },
   "source": [
    "## SSH with netmiko\n",
    "\n",
    "### 1. Netmiko introduction\n",
    "Netmiko is multi-vendor library to simplify Paramiko SSH connections\n",
    "to network devices. It is available in github [here](https://github.com/ktbyers/netmiko).\n",
    "\n",
    "### 2. Enable ssh on all switches with python telnetlib\n",
    "- Create the python script `Python3EnableSSH.py` as follow.\n",
    "\n",
    "```python\n",
    "import getpass\n",
    "import telnetlib\n",
    "\n",
    "f = open(\"myswitches\")\n",
    "user = input(\"Enter your telnet username: \")\n",
    "password = getpass.getpass()\n",
    "for IP in f:\n",
    "    IP = IP.strip()\n",
    "    print(\"Configuring switch \"+str(IP))\n",
    "    tn = telnetlib.Telnet(IP)\n",
    "\n",
    "    tn.read_until(b\"Username: \")\n",
    "    tn.write(user.encode(\"ascii\") + b\"\\n\")\n",
    "    if password:\n",
    "        tn.read_until(b\"Password: \")\n",
    "        tn.write(password.encode(\"ascii\") + b\"\\n\")\n",
    "\n",
    "    tn.write(b\"conf t\\n\")\n",
    "    tn.write(b\"ip domain-name devnet-domain\\n\")\n",
    "    tn.write(b\"crypto key generate rsa modulus 2048\\n\")\n",
    "    tn.write(b\"ip ssh version 2 \\n\")\n",
    "    tn.write(b\"end\\n\")\n",
    "    tn.write(b\"exit\\n\")\n",
    "\n",
    "    print(tn.read_all().decode('ascii'))\n",
    "```\n",
    "- Run with `python3 Python3EnableSSH.py`.\n",
    "- Verify the SSH connection to each switch with\n",
    "`ssh doanh@192.168.122.72`, for example.\n",
    "\n",
    "### 3.\n",
    "\n",
    "\n"
   ]
  }
 ],
 "metadata": {
  "kernelspec": {
   "display_name": "Python 3",
   "language": "python",
   "name": "python3"
  },
  "language_info": {
   "codemirror_mode": {
    "name": "ipython",
    "version": 2
   },
   "file_extension": ".py",
   "mimetype": "text/x-python",
   "name": "python",
   "nbconvert_exporter": "python",
   "pygments_lexer": "ipython2",
   "version": "2.7.6"
  }
 },
 "nbformat": 4,
 "nbformat_minor": 0
}