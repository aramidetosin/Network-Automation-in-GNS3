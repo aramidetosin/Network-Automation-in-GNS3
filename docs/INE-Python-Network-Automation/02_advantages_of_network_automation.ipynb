{
 "cells": [
  {
   "cell_type": "markdown",
   "metadata": {
    "collapsed": true,
    "pycharm": {
     "name": "#%% md\n"
    }
   },
   "source": [
    "## Advantages of Network Automation\n",
    "In this notebook, we show the advantages of Network Automation when\n",
    "comes to configure a bigger network. We extend the simple lab setup in\n",
    "the previous section to include four more switches.\n",
    "### 1. Multiple switches\n",
    "We add additional switches to the topology as in the figure belows.\n",
    "\n",
    "\n"
   ]
  }
 ],
 "metadata": {
  "kernelspec": {
   "display_name": "Python 3",
   "language": "python",
   "name": "python3"
  },
  "language_info": {
   "codemirror_mode": {
    "name": "ipython",
    "version": 2
   },
   "file_extension": ".py",
   "mimetype": "text/x-python",
   "name": "python",
   "nbconvert_exporter": "python",
   "pygments_lexer": "ipython2",
   "version": "2.7.6"
  }
 },
 "nbformat": 4,
 "nbformat_minor": 0
}