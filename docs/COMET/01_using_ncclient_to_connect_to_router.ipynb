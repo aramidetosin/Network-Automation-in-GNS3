{
 "cells": [
  {
   "cell_type": "markdown",
   "metadata": {
    "collapsed": true,
    "pycharm": {
     "name": "#%% md\n"
    }
   },
   "source": [
    "## Setting the computer, install the required libraries\n",
    "\n",
    "- This folder dnav3-code-master/ is cloned from [this link](https://github.com/CiscoDevNet/dnav3-code).\n",
    "- Install the required libraries in the file: dnav3-code-master/intro-mdp/requirements.txt\n",
    "  ```bash\n",
    "  pip install -r requirements.txt\n",
    "  ```\n",
    "- The request module in the requirements file has be changed to newer\n",
    "version (requests==2.23.0) for compatibility with Tensorboad"
   ]
  },
  {
   "cell_type": "code",
   "execution_count": null,
   "outputs": [],
   "source": [
    "%ls\n",
    "%cd dnav3-code-master/intro-mdp\n",
    "%pip install -r requirements.txt"
   ],
   "metadata": {
    "collapsed": false,
    "pycharm": {
     "name": "#%%\n"
    }
   }
  },
  {
   "cell_type": "markdown",
   "source": [
    "## Using netconf to get the interface list\n",
    "The details of the router csr is as follows:\n",
    "- ip address: 192.168.1.14\n",
    "- netconf port: 830 (as [ref.](https://developer.cisco.com/docs/ios-xe/#!enabling-netconf-on-ios-xe/addressing-and-ports))\n",
    "- username: kimdoanh89\n",
    "- password: kimdoanh89"
   ],
   "metadata": {
    "collapsed": false,
    "pycharm": {
     "name": "#%% md\n"
    }
   }
  },
  {
   "cell_type": "code",
   "execution_count": 13,
   "outputs": [
    {
     "name": "stdout",
     "output_type": "stream",
     "text": [
      "Opening NETCONF Connection to host: csr1-192.168.1.14\n"
     ]
    },
    {
     "ename": "SSHError",
     "evalue": "Could not open socket to 192.168.1.14:830",
     "output_type": "error",
     "traceback": [
      "\u001B[1;31m---------------------------------------------------------------------------\u001B[0m",
      "\u001B[1;31mSSHError\u001B[0m                                  Traceback (most recent call last)",
      "\u001B[1;32m<ipython-input-13-34c5fc2e472b>\u001B[0m in \u001B[0;36m<module>\u001B[1;34m\u001B[0m\n\u001B[0;32m     23\u001B[0m         \u001B[0musername\u001B[0m\u001B[1;33m=\u001B[0m\u001B[1;34m\"kimdoanh89\"\u001B[0m\u001B[1;33m,\u001B[0m\u001B[1;33m\u001B[0m\u001B[1;33m\u001B[0m\u001B[0m\n\u001B[0;32m     24\u001B[0m         \u001B[0mpassword\u001B[0m\u001B[1;33m=\u001B[0m\u001B[1;34m\"kimdoanh89\"\u001B[0m\u001B[1;33m,\u001B[0m\u001B[1;33m\u001B[0m\u001B[1;33m\u001B[0m\u001B[0m\n\u001B[1;32m---> 25\u001B[1;33m         \u001B[0mhostkey_verify\u001B[0m\u001B[1;33m=\u001B[0m\u001B[1;32mFalse\u001B[0m\u001B[1;33m\u001B[0m\u001B[1;33m\u001B[0m\u001B[0m\n\u001B[0m\u001B[0;32m     26\u001B[0m         ) as m:\n\u001B[0;32m     27\u001B[0m \u001B[1;33m\u001B[0m\u001B[0m\n",
      "\u001B[1;32mC:\\ProgramData\\Anaconda3\\envs\\tfenv\\lib\\site-packages\\ncclient\\manager.py\u001B[0m in \u001B[0;36mconnect\u001B[1;34m(*args, **kwds)\u001B[0m\n\u001B[0;32m    161\u001B[0m             \u001B[1;32mreturn\u001B[0m \u001B[0mconnect_ioproc\u001B[0m\u001B[1;33m(\u001B[0m\u001B[1;33m*\u001B[0m\u001B[0margs\u001B[0m\u001B[1;33m,\u001B[0m \u001B[1;33m**\u001B[0m\u001B[0mkwds\u001B[0m\u001B[1;33m)\u001B[0m\u001B[1;33m\u001B[0m\u001B[1;33m\u001B[0m\u001B[0m\n\u001B[0;32m    162\u001B[0m         \u001B[1;32melse\u001B[0m\u001B[1;33m:\u001B[0m\u001B[1;33m\u001B[0m\u001B[1;33m\u001B[0m\u001B[0m\n\u001B[1;32m--> 163\u001B[1;33m             \u001B[1;32mreturn\u001B[0m \u001B[0mconnect_ssh\u001B[0m\u001B[1;33m(\u001B[0m\u001B[1;33m*\u001B[0m\u001B[0margs\u001B[0m\u001B[1;33m,\u001B[0m \u001B[1;33m**\u001B[0m\u001B[0mkwds\u001B[0m\u001B[1;33m)\u001B[0m\u001B[1;33m\u001B[0m\u001B[1;33m\u001B[0m\u001B[0m\n\u001B[0m\u001B[0;32m    164\u001B[0m \u001B[1;33m\u001B[0m\u001B[0m\n\u001B[0;32m    165\u001B[0m \u001B[1;32mclass\u001B[0m \u001B[0mManager\u001B[0m\u001B[1;33m(\u001B[0m\u001B[0mobject\u001B[0m\u001B[1;33m)\u001B[0m\u001B[1;33m:\u001B[0m\u001B[1;33m\u001B[0m\u001B[1;33m\u001B[0m\u001B[0m\n",
      "\u001B[1;32mC:\\ProgramData\\Anaconda3\\envs\\tfenv\\lib\\site-packages\\ncclient\\manager.py\u001B[0m in \u001B[0;36mconnect_ssh\u001B[1;34m(*args, **kwds)\u001B[0m\n\u001B[0;32m    126\u001B[0m \u001B[1;33m\u001B[0m\u001B[0m\n\u001B[0;32m    127\u001B[0m     \u001B[1;32mtry\u001B[0m\u001B[1;33m:\u001B[0m\u001B[1;33m\u001B[0m\u001B[1;33m\u001B[0m\u001B[0m\n\u001B[1;32m--> 128\u001B[1;33m        \u001B[0msession\u001B[0m\u001B[1;33m.\u001B[0m\u001B[0mconnect\u001B[0m\u001B[1;33m(\u001B[0m\u001B[1;33m*\u001B[0m\u001B[0margs\u001B[0m\u001B[1;33m,\u001B[0m \u001B[1;33m**\u001B[0m\u001B[0mkwds\u001B[0m\u001B[1;33m)\u001B[0m\u001B[1;33m\u001B[0m\u001B[1;33m\u001B[0m\u001B[0m\n\u001B[0m\u001B[0;32m    129\u001B[0m     \u001B[1;32mexcept\u001B[0m \u001B[0mException\u001B[0m \u001B[1;32mas\u001B[0m \u001B[0mex\u001B[0m\u001B[1;33m:\u001B[0m\u001B[1;33m\u001B[0m\u001B[1;33m\u001B[0m\u001B[0m\n\u001B[0;32m    130\u001B[0m         \u001B[1;32mif\u001B[0m \u001B[0msession\u001B[0m\u001B[1;33m.\u001B[0m\u001B[0mtransport\u001B[0m\u001B[1;33m:\u001B[0m\u001B[1;33m\u001B[0m\u001B[1;33m\u001B[0m\u001B[0m\n",
      "\u001B[1;32mC:\\ProgramData\\Anaconda3\\envs\\tfenv\\lib\\site-packages\\ncclient\\transport\\ssh.py\u001B[0m in \u001B[0;36mconnect\u001B[1;34m(self, host, port, timeout, unknown_host_cb, username, password, key_filename, allow_agent, hostkey_verify, hostkey_b64, look_for_keys, ssh_config, sock_fd)\u001B[0m\n\u001B[0;32m    403\u001B[0m                     \u001B[1;32mbreak\u001B[0m\u001B[1;33m\u001B[0m\u001B[1;33m\u001B[0m\u001B[0m\n\u001B[0;32m    404\u001B[0m                 \u001B[1;32melse\u001B[0m\u001B[1;33m:\u001B[0m\u001B[1;33m\u001B[0m\u001B[1;33m\u001B[0m\u001B[0m\n\u001B[1;32m--> 405\u001B[1;33m                     \u001B[1;32mraise\u001B[0m \u001B[0mSSHError\u001B[0m\u001B[1;33m(\u001B[0m\u001B[1;34m\"Could not open socket to %s:%s\"\u001B[0m \u001B[1;33m%\u001B[0m \u001B[1;33m(\u001B[0m\u001B[0mhost\u001B[0m\u001B[1;33m,\u001B[0m \u001B[0mport\u001B[0m\u001B[1;33m)\u001B[0m\u001B[1;33m)\u001B[0m\u001B[1;33m\u001B[0m\u001B[1;33m\u001B[0m\u001B[0m\n\u001B[0m\u001B[0;32m    406\u001B[0m         \u001B[1;32melse\u001B[0m\u001B[1;33m:\u001B[0m\u001B[1;33m\u001B[0m\u001B[1;33m\u001B[0m\u001B[0m\n\u001B[0;32m    407\u001B[0m             \u001B[1;32mif\u001B[0m \u001B[0msys\u001B[0m\u001B[1;33m.\u001B[0m\u001B[0mversion_info\u001B[0m\u001B[1;33m[\u001B[0m\u001B[1;36m0\u001B[0m\u001B[1;33m]\u001B[0m \u001B[1;33m<\u001B[0m \u001B[1;36m3\u001B[0m\u001B[1;33m:\u001B[0m\u001B[1;33m\u001B[0m\u001B[1;33m\u001B[0m\u001B[0m\n",
      "\u001B[1;31mSSHError\u001B[0m: Could not open socket to 192.168.1.14:830"
     ]
    }
   ],
   "source": [
    "import os\n",
    "import sys\n",
    "from ncclient import manager\n",
    "import xmltodict\n",
    "import xml.dom.minidom\n",
    "\n",
    "\n",
    "# Create an XML filter for targeted NETCONF queries\n",
    "netconf_filter = \"\"\"\n",
    "<filter>\n",
    "  <interfaces xmlns=\"urn:ietf:params:xml:ns:yang:ietf-interfaces\">\n",
    "    <interface></interface>\n",
    "  </interfaces>\n",
    "</filter>\"\"\"\n",
    "\n",
    "print(\"Opening NETCONF Connection to {}\"\n",
    "      .format(\"host: csr1-192.168.1.14\"))\n",
    "\n",
    "# Open a connection to the network device using ncclient\n",
    "with manager.connect(\n",
    "        host=\"192.168.1.14\",\n",
    "        port=830,\n",
    "        username=\"kimdoanh89\",\n",
    "        password=\"kimdoanh89\",\n",
    "        hostkey_verify=False\n",
    "        ) as m:\n",
    "\n",
    "    print(\"Sending a <get-config> operation to the device.\\n\")\n",
    "    # Make a NETCONF <get-config> query using the filter\n",
    "    netconf_reply = m.get_config(source = 'running', filter = netconf_filter)\n",
    "\n",
    "print(\"Here is the raw XML data returned from the device.\\n\")\n",
    "# Print out the raw XML that returned\n",
    "print(xml.dom.minidom.parseString(netconf_reply.xml).toprettyxml())\n",
    "print(\"\")\n",
    "\n",
    "# Parse the returned XML to an Ordered Dictionary\n",
    "netconf_data = xmltodict.parse(netconf_reply.xml)[\"rpc-reply\"][\"data\"]\n",
    "\n",
    "# Create a list of interfaces\n",
    "interfaces = netconf_data[\"interfaces\"][\"interface\"]\n",
    "\n",
    "print(\"The interface status of the device is: \")\n",
    "# Loop over interfaces and report status\n",
    "for interface in interfaces:\n",
    "    print(\"Interface {} enabled status is {}\".format(\n",
    "            interface[\"name\"],\n",
    "            interface[\"enabled\"]\n",
    "            )\n",
    "        )\n",
    "print(\"\\n\")\n",
    "\n",
    "\n"
   ],
   "metadata": {
    "collapsed": false,
    "pycharm": {
     "name": "#%%\n"
    }
   }
  }
 ],
 "metadata": {
  "kernelspec": {
   "name": "pycharm-3062606e",
   "language": "python",
   "display_name": "PyCharm (Multiple-antenna-communications)"
  },
  "language_info": {
   "codemirror_mode": {
    "name": "ipython",
    "version": 2
   },
   "file_extension": ".py",
   "mimetype": "text/x-python",
   "name": "python",
   "nbconvert_exporter": "python",
   "pygments_lexer": "ipython2",
   "version": "2.7.6"
  }
 },
 "nbformat": 4,
 "nbformat_minor": 0
}