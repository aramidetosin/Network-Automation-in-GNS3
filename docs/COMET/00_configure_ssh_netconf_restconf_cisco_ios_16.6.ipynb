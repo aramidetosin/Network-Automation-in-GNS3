{
 "cells": [
  {
   "cell_type": "markdown",
   "metadata": {
    "collapsed": true,
    "pycharm": {
     "name": "#%% md\n"
    }
   },
   "source": [
    "## 1. Download and build the VM with Cisco IOS XE\n",
    "- Download the ios xe Everest 16.06.07 .iso image from Cisco in the following\n",
    "link.\n",
    "- Booting the VM using this image in Virtual box.\n",
    "\n",
    "\n",
    "## 2. Configure secure shell\n",
    "- Create the public key to use on the local machine: [Ref](https://networklessons.com/uncategorized/ssh-public-key-authentication-cisco-ios)\n",
    "  - Using mobaxterm: tools/MobaKeyGen to create/save the public and private keypairs\n",
    "- Setting IP address\n",
    "```bash\n",
    "enable\n",
    "configure terminal\n",
    "interface GigabitEthernet1\n",
    "ip address 192.168.1.14 255.255.255.0\n",
    "no shutdown\n",
    "exit\n",
    "```\n",
    "- Setting up the device to run SSH & configure SSH server\n",
    "```bash\n",
    "enable # enter EXEC mode\n",
    "configure terminal # enter global configuration mode\n",
    "hostname csr1 # configure hostname and domain name\n",
    "ip domain-name csr1-domain\n",
    "crypto key generate rsa modulus 2048 # enter modulus length of at least 1024, longer is more secure\n",
    "ip ssh version 2 # configure the device to run SSHv2\n",
    "ip ssh time-out 90 # specify the timeout value in seconds, number of time the client can re-authenticate\n",
    "line vty 0 4 # configure the virtual terminal line settings\n",
    "login local\n",
    "transport input all # allow all transport connections, include telnet, ssh\n",
    "end # return to EXEC mode\n",
    "show ip ssh # show version and conf info SSH server\n",
    "show ssh # show the status of SSH server connections\n",
    "configure terminal\n",
    "username kimdoanh89 password kimdoanh89 # create user and password for SSH client to access\n",
    "username kimdoanh89 privilege 15 # set privilege privilege level 15 to the username ‘kimdoanh89’,\n",
    "# therefore it can directly enter the privileged EXEC mode without an enable password (indicated by the ‘#’ sign next to the router hostname)\n",
    "exit\n",
    "show running-config # verify the entries\n",
    "copy running-config startup-config # save the entries in the conf file\n",
    "```\n",
    "\n",
    "- SSH to the router on the local machine (management server)\n",
    "\n",
    "```bash\n",
    "ssh kimdoanh89@192.168.1.14\n",
    "password: kimdoanh89\n",
    "```\n",
    "\n",
    "## 3. Configure NETCONF/YANG\n",
    "Checking this [ref](https://www.cisco.com/c/en/us/support/docs/storage-networking/management/200933-YANG-NETCONF-Configuration-Validation.html)\n",
    "and this [ref](https://www.cisco.com/c/en/us/td/docs/ios-xml/ios/prog/configuration/166/b_166_programmability_cg/configuring_yang_datamodel.html).\n",
    "\n",
    "```bash\n",
    "enable\n",
    "configure terminal\n",
    "netconf-yang\n",
    "netconf-yang feature candidate-datastore\n",
    "```\n",
    "\n",
    "\n",
    "## 4. Install Yang Explorer in Window Linux subsystem\n",
    "- Follow the instructions [here](https://github.com/CiscoDevNet/yang-explorer).\n",
    "```bash\n",
    "pip install --upgrade pip\n",
    "sudo pip install --upgrade setuptools\n",
    "sudo apt-get install python-virtualenv graphviz\n",
    "git clone https://github.com/CiscoDevNet/yang-explorer.git\n",
    "cd yang-explorer\n",
    "bash setup.sh\n",
    "```"
   ]
  }
 ],
 "metadata": {
  "kernelspec": {
   "name": "pycharm-3062606e",
   "language": "python",
   "display_name": "PyCharm (Multiple-antenna-communications)"
  },
  "language_info": {
   "codemirror_mode": {
    "name": "ipython",
    "version": 2
   },
   "file_extension": ".py",
   "mimetype": "text/x-python",
   "name": "python",
   "nbconvert_exporter": "python",
   "pygments_lexer": "ipython2",
   "version": "2.7.6"
  }
 },
 "nbformat": 4,
 "nbformat_minor": 0
}